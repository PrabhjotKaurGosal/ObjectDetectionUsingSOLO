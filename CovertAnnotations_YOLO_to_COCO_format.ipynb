{
 "cells": [
  {
   "cell_type": "code",
   "execution_count": 213,
   "id": "corresponding-rating",
   "metadata": {},
   "outputs": [],
   "source": [
    "# This file converts object detection annotations from YOLO format (.txt and .names) to COCO format (.json)\n",
    "# The base code is originally from: https://www.programmersought.com/article/76707275021/\n",
    "# It was modified as the original code was not working for my needs."
   ]
  },
  {
   "cell_type": "code",
   "execution_count": 224,
   "id": "amino-cleaners",
   "metadata": {},
   "outputs": [],
   "source": [
    "import os\n",
    "import json\n",
    "import cv2\n",
    "import random\n",
    "import time"
   ]
  },
  {
   "cell_type": "code",
   "execution_count": 129,
   "id": "selective-officer",
   "metadata": {},
   "outputs": [],
   "source": [
    "# Preparing the Dataset\n",
    "# Convert all images to .jpg (This is not necessary but made my life easier down the line)\n",
    "\n",
    "from PIL import Image\n",
    "#iml = Image.open(r'/media/jyoti/My Passport/DoorDetectDataset/images/Wood_Mode_Brookhaven_Hardware_Kitchen_Associates-3.png')\n",
    "#rgb_im = iml.convert('RGB')\n",
    "#rgb_im.save(r'/media/jyoti/My Passport/DoorDetectDataset/images/Wood_Mode_Brookhaven_Hardware_Kitchen_Associates-3.jpg')\n"
   ]
  },
  {
   "cell_type": "code",
   "execution_count": 221,
   "id": "posted-moore",
   "metadata": {},
   "outputs": [
    {
     "name": "stdout",
     "output_type": "stream",
     "text": [
      "The number of unlabelled files is:  121\n"
     ]
    }
   ],
   "source": [
    "# Preparing the Dataset - remove unlabelled files\n",
    "# Move the files (jpg and txt that are not labelled) from the working directory and put them in another folder. . .\n",
    "# I chose to remove the image files from the dataset that were not labelled\n",
    "\n",
    "import shutil\n",
    "\n",
    "directory_labels = os.fsencode(\"/media/jyoti/My Passport/DoorDetectDataset/labels\") #absolute path to the directory where all labels are stored\n",
    "directory_images = os.fsencode(\"/media/jyoti/My Passport/DoorDetectDataset/images\") #absolute path to the directory where all images are stored\n",
    "directory_unlabelled_images = os.fsencode(\"/media/jyoti/My Passport/DoorDetectDataset/Unlabelled_images\")#absolute path to the directory where unlabelled images are to be stored\n",
    "\n",
    "not_labelled_files = 0\n",
    "for file in os.listdir(directory_labels): #Read from the directory where the labels are stored\n",
    "     filename = os.fsdecode(file)\n",
    "     if filename.endswith(\".txt\"):\n",
    "        yolo_annotation_path = (os.path.join(directory_labels.decode(\"utf-8\"), filename))\n",
    "        base=os.path.basename(yolo_annotation_path)\n",
    "        file_name_without_ext = os.path.splitext(base)[0] # name of the file without the extension\n",
    "        img_path = os.path.join(directory_images.decode(\"utf-8\"), file_name_without_ext+ \".\" + 'jpg')\n",
    "        \n",
    "        filesize = os.path.getsize(yolo_annotation_path)\n",
    "        if filesize == 0: #chek if the label file (.txt) is empty - that is it has no labels\n",
    "            UnlabeledImg_path = os.path.join(directory_unlabelled_images.decode(\"utf-8\"), file_name_without_ext+ \".\" + 'jpg')\n",
    "            not_labelled_files = not_labelled_files +1\n",
    "            \n",
    "            shutil.move(img_path, UnlabeledImg_path) #remove the corresponding image to another directory\n",
    "print(\"The number of unlabelled files is: \", not_labelled_files)"
   ]
  },
  {
   "cell_type": "code",
   "execution_count": 225,
   "id": "precise-sentence",
   "metadata": {},
   "outputs": [],
   "source": [
    "# coco format last storage location\n",
    "coco_format_save_path = '/media/jyoti/My Passport/DoorDetectDataset/0a604ed4883b45e5.json'\n",
    " # Category file, one category per line\n",
    "yolo_format_classes_path = '/media/jyoti/My Passport/DoorDetectDataset/obj.names'\n",
    " # yolo format comment file\n",
    "#yolo_format_annotation_path = '/media/jyoti/My Passport/DoorDetectDataset/labels/0a604ed4883b45e5.txt'\n",
    " # Write the category according to your own data set. for example: \n",
    "# categories_dict = [{'supercategory': 'None', 'id': 1, 'name': 'w3'},{'supercategory': 'None', 'id': 2, 'name': '\n",
    "\n",
    "#Read the categories file and extarct all categories\n",
    "with open(yolo_format_classes_path,'r') as f1:\n",
    "    lines1 = f1.readlines()\n",
    "categories = []\n",
    "for j,label in enumerate(lines1):\n",
    "    label = label.strip()\n",
    "    categories.append({'id':j+1,'name':label,'supercategory': 'None'})\n",
    "    \n",
    "write_json_context = dict()\n",
    "write_json_context['info'] = {'description': '', 'url': '', 'version': '', 'year': 2021, 'contributor': '', 'date_created': '2021-02-12 11:00:08.5'}\n",
    "write_json_context['licenses'] = [{'id': 1, 'name': None, 'url': None}]\n",
    "write_json_context['categories'] = categories\n",
    "write_json_context['images'] = []\n",
    "write_json_context['annotations'] = []"
   ]
  },
  {
   "cell_type": "code",
   "execution_count": 226,
   "id": "north-parade",
   "metadata": {},
   "outputs": [],
   "source": [
    "#Read the label files (.txt) to extarct bounding box information and store in COCO format\n",
    "directory_labels = os.fsencode(\"/media/jyoti/My Passport/DoorDetectDataset/labels\")\n",
    "directory_images = os.fsencode(\"/media/jyoti/My Passport/DoorDetectDataset/images\")\n",
    "\n",
    "file_number = 1\n",
    "num_bboxes = 1\n",
    "for file in os.listdir(directory_labels):\n",
    "     filename = os.fsdecode(file)\n",
    "     if filename.endswith(\".txt\"):\n",
    "        yolo_annotation_path = (os.path.join(directory_labels.decode(\"utf-8\"), filename))\n",
    "        base=os.path.basename(yolo_annotation_path)\n",
    "        file_name_without_ext = os.path.splitext(base)[0] # name of the file without the extension\n",
    "        img_path = os.path.join(directory_images.decode(\"utf-8\"), file_name_without_ext+ \".\" + 'jpg')\n",
    "        img_name = os.path.basename(img_path) # name of the file without the extension\n",
    "        img_context = {}\n",
    "        height,width = cv2.imread(img_path).shape[:2]\n",
    "        img_context['file_name'] = img_name\n",
    "        img_context['height'] = height\n",
    "        img_context['width'] = width\n",
    "        img_context['date_captured'] = '2021-02-12 11:00:08.5'\n",
    "        img_context['id'] = file_number # image id\n",
    "        img_context['license'] = 1\n",
    "        img_context['coco_url'] =''\n",
    "        img_context['flickr_url'] = ''\n",
    "        write_json_context['images'].append(img_context)\n",
    "        \n",
    "        with open(yolo_annotation_path,'r') as f2:\n",
    "            lines2 = f2.readlines() \n",
    "\n",
    "        for i,line in enumerate(lines2): # for loop runs for number of annotations labelled in an image\n",
    "            line = line.split(' ')\n",
    "            bbox_dict = {}\n",
    "            class_id, xmin,ymin,xmax,ymax,= line[0:]\n",
    "            xmin,ymin,xmax,ymax,class_id= float(xmin),float(ymin),float(xmax),float(ymax),int(class_id)\n",
    "            bbox_dict['id'] = num_bboxes\n",
    "            bbox_dict['image_id'] = file_number\n",
    "            bbox_dict['category_id'] = class_id + 1\n",
    "            bbox_dict['iscrowd'] = 0 # There is an explanation before\n",
    "            h,w = abs(ymax-ymin),abs(xmax-xmin)\n",
    "            bbox_dict['area']  = h * w\n",
    "            bbox_dict['bbox'] = [xmin,ymin,w,h]\n",
    "            bbox_dict['segmentation'] = [[xmin,ymin,xmax,ymin,xmax,ymax,xmin,ymax]]\n",
    "            write_json_context['annotations'].append(bbox_dict)\n",
    "            num_bboxes+=1\n",
    "        \n",
    "        file_number = file_number+1\n",
    "        continue\n",
    "     else:\n",
    "        continue\n",
    "        \n",
    " # Finally done, save!\n",
    "coco_format_save_path = '/media/jyoti/My Passport/DoorDetectDataset/COCO_format_labels.json'\n",
    "with open(coco_format_save_path,'w') as fw:\n",
    "    json.dump(write_json_context,fw)          \n",
    "    "
   ]
  },
  {
   "cell_type": "code",
   "execution_count": null,
   "id": "working-union",
   "metadata": {},
   "outputs": [],
   "source": []
  }
 ],
 "metadata": {
  "kernelspec": {
   "display_name": "Python 3",
   "language": "python",
   "name": "python3"
  },
  "language_info": {
   "codemirror_mode": {
    "name": "ipython",
    "version": 3
   },
   "file_extension": ".py",
   "mimetype": "text/x-python",
   "name": "python",
   "nbconvert_exporter": "python",
   "pygments_lexer": "ipython3",
   "version": "3.8.5"
  }
 },
 "nbformat": 4,
 "nbformat_minor": 5
}
